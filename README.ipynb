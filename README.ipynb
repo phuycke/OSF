{
 "cells": [
  {
   "cell_type": "markdown",
   "metadata": {},
   "source": [
    "# Theta and alpha power across fast and slow timescales in cognitive control\n",
    "\n",
    "[![Up to date](https://img.shields.io/github/last-commit/phuycke/alpha_theta_timescales)](https://img.shields.io/github/last-commit/phuycke/alpha_theta_timescales)\n",
    "[![Lines of code](https://img.shields.io/tokei/lines/github/phuycke/alpha_theta_timescales?color=informational)](https://img.shields.io/tokei/lines/github/phuycke/alpha_theta_timescales?color=informational)\n",
    "[![Follow me](https://img.shields.io/twitter/follow/PieterHuycke?style=social)](https://img.shields.io/twitter/follow/PieterHuycke?style=social)"
   ]
  },
  {
   "cell_type": "markdown",
   "metadata": {},
   "source": [
    "## Overview\n",
    "\n",
    "This GitHub repository contains the code used for the analysis and plotting done in the paper titled \"Theta and alpha power across fast and slow timescales in cognitive control\" by Pieter Huycke, Pieter Verbeke, C. Nico Boehler and Tom Verguts. A preprint of this article is available on [BioRxiv.](https://doi.org/10.1101/2020.08.21.259341) The code available in this repository relies on the processed data collected for our study. This code is also open access, and can be found in this [Open Science Framework repository](https://osf.io/2q5eh/) when the article is published. "
   ]
  },
  {
   "cell_type": "markdown",
   "metadata": {},
   "source": [
    "## Organization\n",
    "\n",
    "To be defined."
   ]
  },
  {
   "cell_type": "markdown",
   "metadata": {},
   "source": [
    "## Programming environment   \n",
    "\n",
    "Packages used, and their versions, are listed below.    \n",
    "Note that we only listed the most important packages, a complete list of the Anaconda virtual environment can be found in [requirements.txt.](https://github.com/phuycke/alpha_theta_timescales/blob/main/0.%20Software%20environment/requirements.txt)\n",
    "\n",
    "- conda (v. 4.9.1)\n",
    "- python (v. 3.8.5\n",
    "- spyder (v. 3.8.5)\n",
    "    * matplotlib (v. 3.3.2)\n",
    "    * mne-python (v. 0.21.0)\n",
    "    * numpy (v. 1.19.2)\n",
    "    * pandas (v. 1.1.3)\n",
    "    * scipy (v. 1.5.0)\n",
    "    * seaborn (v. 0.11.0)\n",
    "    * spyder (v. 4.1.5)\n",
    "- R (v. 3.6.3 - \"Holding the Windsock\")\n",
    "- RStudio (v. 1.1.463)\n",
    "    * lme4 (v. 1.1-25)\n",
    "    * lmerTest (v. 3.1-3)"
   ]
  },
  {
   "cell_type": "markdown",
   "metadata": {},
   "source": [
    "## Contact\n",
    "\n",
    "- First author: Pieter Huycke  \n",
    "    * [mail](mailto:Pieter.Huycke@UGent.be)\n",
    "    * [web entry](https://www.cogcomneurosci.com/about/#pieter-huycke)\n",
    "- Principle Investigator: prof. Tom Verguts\n",
    "    * [mail](mailto:Tom.Verguts@UGent.be)\n",
    "    * [web entry](https://www.cogcomneurosci.com/about/#principal-investigator)\n",
    "\n",
    "[Lab website]: https://cogcomneurosci.com/"
   ]
  },
  {
   "cell_type": "markdown",
   "metadata": {},
   "source": [
    "**Last edit: 16-12-2020**"
   ]
  }
 ],
 "metadata": {
  "kernelspec": {
   "display_name": "Python 3",
   "language": "python",
   "name": "python3"
  },
  "language_info": {
   "codemirror_mode": {
    "name": "ipython",
    "version": 3
   },
   "file_extension": ".py",
   "mimetype": "text/x-python",
   "name": "python",
   "nbconvert_exporter": "python",
   "pygments_lexer": "ipython3",
   "version": "3.7.4"
  }
 },
 "nbformat": 4,
 "nbformat_minor": 2
}
